{
 "cells": [
  {
   "cell_type": "markdown",
   "id": "c4eb39ba-50e4-4fa6-b18f-0f5f28d5b39d",
   "metadata": {},
   "source": [
    "## COVID-19_Tests__Cases__and_Deaths__By_Town__-_ARCHIVE_20231023\n",
    "## F.Rivera WK3"
   ]
  },
  {
   "cell_type": "markdown",
   "id": "88f1d3be-a708-45a3-b3ab-88bf25983eb9",
   "metadata": {},
   "source": [
    "#### Library import & Column set"
   ]
  },
  {
   "cell_type": "code",
   "execution_count": 694,
   "id": "6adcdabf-399a-4151-ad5f-5f27478ae619",
   "metadata": {
    "tags": []
   },
   "outputs": [],
   "source": [
    "import pandas as pd\n",
    "import numpy as np\n",
    "import matplotlib.pyplot as plt\n",
    "import scipy as stat\n",
    "import seaborn as sns\n",
    "pd.set_option('display.max_columns', 20)"
   ]
  },
  {
   "cell_type": "markdown",
   "id": "17df021d-8c91-4ae3-b28a-87d005e252d7",
   "metadata": {},
   "source": [
    "#### Dataset assigned to wk3"
   ]
  },
  {
   "cell_type": "code",
   "execution_count": 695,
   "id": "86f8f9d4-61a3-4700-ae60-4dea0abf00ed",
   "metadata": {
    "tags": []
   },
   "outputs": [
    {
     "data": {
      "text/html": [
       "<div>\n",
       "<style scoped>\n",
       "    .dataframe tbody tr th:only-of-type {\n",
       "        vertical-align: middle;\n",
       "    }\n",
       "\n",
       "    .dataframe tbody tr th {\n",
       "        vertical-align: top;\n",
       "    }\n",
       "\n",
       "    .dataframe thead th {\n",
       "        text-align: right;\n",
       "    }\n",
       "</style>\n",
       "<table border=\"1\" class=\"dataframe\">\n",
       "  <thead>\n",
       "    <tr style=\"text-align: right;\">\n",
       "      <th></th>\n",
       "      <th>Last update date</th>\n",
       "      <th>Town number</th>\n",
       "      <th>Town</th>\n",
       "      <th>Total cases</th>\n",
       "      <th>Confirmed cases</th>\n",
       "      <th>Probable cases</th>\n",
       "      <th>Case rate</th>\n",
       "      <th>Total deaths</th>\n",
       "      <th>Confirmed deaths</th>\n",
       "      <th>Probable deaths</th>\n",
       "      <th>People tested</th>\n",
       "      <th>Rate tested per 100k</th>\n",
       "      <th>Number of tests</th>\n",
       "      <th>Number of positives</th>\n",
       "      <th>Number of negatives</th>\n",
       "      <th>Number of indeterminates</th>\n",
       "    </tr>\n",
       "  </thead>\n",
       "  <tbody>\n",
       "    <tr>\n",
       "      <th>0</th>\n",
       "      <td>1/17/2021</td>\n",
       "      <td>1</td>\n",
       "      <td>Andover</td>\n",
       "      <td>118</td>\n",
       "      <td>109.0</td>\n",
       "      <td>9.0</td>\n",
       "      <td>3652.0</td>\n",
       "      <td>2</td>\n",
       "      <td>2.0</td>\n",
       "      <td>0.0</td>\n",
       "      <td>1386.0</td>\n",
       "      <td>42897.0</td>\n",
       "      <td>3018.0</td>\n",
       "      <td>134.0</td>\n",
       "      <td>2882.0</td>\n",
       "      <td>2.0</td>\n",
       "    </tr>\n",
       "    <tr>\n",
       "      <th>1</th>\n",
       "      <td>1/17/2021</td>\n",
       "      <td>2</td>\n",
       "      <td>Ansonia</td>\n",
       "      <td>1236</td>\n",
       "      <td>1131.0</td>\n",
       "      <td>105.0</td>\n",
       "      <td>6602.0</td>\n",
       "      <td>20</td>\n",
       "      <td>13.0</td>\n",
       "      <td>7.0</td>\n",
       "      <td>8358.0</td>\n",
       "      <td>44645.0</td>\n",
       "      <td>22604.0</td>\n",
       "      <td>1451.0</td>\n",
       "      <td>21074.0</td>\n",
       "      <td>79.0</td>\n",
       "    </tr>\n",
       "    <tr>\n",
       "      <th>2</th>\n",
       "      <td>1/17/2021</td>\n",
       "      <td>3</td>\n",
       "      <td>Ashford</td>\n",
       "      <td>158</td>\n",
       "      <td>155.0</td>\n",
       "      <td>3.0</td>\n",
       "      <td>3708.0</td>\n",
       "      <td>3</td>\n",
       "      <td>3.0</td>\n",
       "      <td>0.0</td>\n",
       "      <td>1917.0</td>\n",
       "      <td>44989.0</td>\n",
       "      <td>4432.0</td>\n",
       "      <td>180.0</td>\n",
       "      <td>4249.0</td>\n",
       "      <td>3.0</td>\n",
       "    </tr>\n",
       "    <tr>\n",
       "      <th>3</th>\n",
       "      <td>1/17/2021</td>\n",
       "      <td>4</td>\n",
       "      <td>Avon</td>\n",
       "      <td>614</td>\n",
       "      <td>591.0</td>\n",
       "      <td>23.0</td>\n",
       "      <td>3355.0</td>\n",
       "      <td>63</td>\n",
       "      <td>52.0</td>\n",
       "      <td>11.0</td>\n",
       "      <td>8980.0</td>\n",
       "      <td>49066.0</td>\n",
       "      <td>23448.0</td>\n",
       "      <td>700.0</td>\n",
       "      <td>22712.0</td>\n",
       "      <td>36.0</td>\n",
       "    </tr>\n",
       "    <tr>\n",
       "      <th>4</th>\n",
       "      <td>1/17/2021</td>\n",
       "      <td>5</td>\n",
       "      <td>Barkhamsted</td>\n",
       "      <td>115</td>\n",
       "      <td>112.0</td>\n",
       "      <td>3.0</td>\n",
       "      <td>3173.0</td>\n",
       "      <td>1</td>\n",
       "      <td>1.0</td>\n",
       "      <td>0.0</td>\n",
       "      <td>1521.0</td>\n",
       "      <td>41970.0</td>\n",
       "      <td>3877.0</td>\n",
       "      <td>126.0</td>\n",
       "      <td>3743.0</td>\n",
       "      <td>8.0</td>\n",
       "    </tr>\n",
       "    <tr>\n",
       "      <th>...</th>\n",
       "      <td>...</td>\n",
       "      <td>...</td>\n",
       "      <td>...</td>\n",
       "      <td>...</td>\n",
       "      <td>...</td>\n",
       "      <td>...</td>\n",
       "      <td>...</td>\n",
       "      <td>...</td>\n",
       "      <td>...</td>\n",
       "      <td>...</td>\n",
       "      <td>...</td>\n",
       "      <td>...</td>\n",
       "      <td>...</td>\n",
       "      <td>...</td>\n",
       "      <td>...</td>\n",
       "      <td>...</td>\n",
       "    </tr>\n",
       "    <tr>\n",
       "      <th>102240</th>\n",
       "      <td>6/24/2022</td>\n",
       "      <td>165</td>\n",
       "      <td>Windsor Locks</td>\n",
       "      <td>2702</td>\n",
       "      <td>2507.0</td>\n",
       "      <td>195.0</td>\n",
       "      <td>21021.0</td>\n",
       "      <td>44</td>\n",
       "      <td>40.0</td>\n",
       "      <td>4.0</td>\n",
       "      <td>10507.0</td>\n",
       "      <td>81741.0</td>\n",
       "      <td>44778.0</td>\n",
       "      <td>3347.0</td>\n",
       "      <td>41376.0</td>\n",
       "      <td>55.0</td>\n",
       "    </tr>\n",
       "    <tr>\n",
       "      <th>102241</th>\n",
       "      <td>6/24/2022</td>\n",
       "      <td>166</td>\n",
       "      <td>Wolcott</td>\n",
       "      <td>4089</td>\n",
       "      <td>3557.0</td>\n",
       "      <td>532.0</td>\n",
       "      <td>24652.0</td>\n",
       "      <td>64</td>\n",
       "      <td>54.0</td>\n",
       "      <td>10.0</td>\n",
       "      <td>14324.0</td>\n",
       "      <td>86357.0</td>\n",
       "      <td>71416.0</td>\n",
       "      <td>5163.0</td>\n",
       "      <td>66148.0</td>\n",
       "      <td>105.0</td>\n",
       "    </tr>\n",
       "    <tr>\n",
       "      <th>102242</th>\n",
       "      <td>6/24/2022</td>\n",
       "      <td>167</td>\n",
       "      <td>Woodbridge</td>\n",
       "      <td>1699</td>\n",
       "      <td>1519.0</td>\n",
       "      <td>180.0</td>\n",
       "      <td>19417.0</td>\n",
       "      <td>48</td>\n",
       "      <td>42.0</td>\n",
       "      <td>6.0</td>\n",
       "      <td>8668.0</td>\n",
       "      <td>99063.0</td>\n",
       "      <td>50559.0</td>\n",
       "      <td>2115.0</td>\n",
       "      <td>48373.0</td>\n",
       "      <td>71.0</td>\n",
       "    </tr>\n",
       "    <tr>\n",
       "      <th>102243</th>\n",
       "      <td>6/24/2022</td>\n",
       "      <td>168</td>\n",
       "      <td>Woodbury</td>\n",
       "      <td>1646</td>\n",
       "      <td>1367.0</td>\n",
       "      <td>279.0</td>\n",
       "      <td>17323.0</td>\n",
       "      <td>12</td>\n",
       "      <td>10.0</td>\n",
       "      <td>2.0</td>\n",
       "      <td>7918.0</td>\n",
       "      <td>83330.0</td>\n",
       "      <td>34243.0</td>\n",
       "      <td>2023.0</td>\n",
       "      <td>32192.0</td>\n",
       "      <td>28.0</td>\n",
       "    </tr>\n",
       "    <tr>\n",
       "      <th>102244</th>\n",
       "      <td>6/24/2022</td>\n",
       "      <td>169</td>\n",
       "      <td>Woodstock</td>\n",
       "      <td>1440</td>\n",
       "      <td>1391.0</td>\n",
       "      <td>49.0</td>\n",
       "      <td>18325.0</td>\n",
       "      <td>7</td>\n",
       "      <td>7.0</td>\n",
       "      <td>0.0</td>\n",
       "      <td>6740.0</td>\n",
       "      <td>85772.0</td>\n",
       "      <td>23654.0</td>\n",
       "      <td>1680.0</td>\n",
       "      <td>21945.0</td>\n",
       "      <td>29.0</td>\n",
       "    </tr>\n",
       "  </tbody>\n",
       "</table>\n",
       "<p>102245 rows × 16 columns</p>\n",
       "</div>"
      ],
      "text/plain": [
       "       Last update date  Town number           Town  Total cases   \\\n",
       "0             1/17/2021            1        Andover           118   \n",
       "1             1/17/2021            2        Ansonia          1236   \n",
       "2             1/17/2021            3        Ashford           158   \n",
       "3             1/17/2021            4           Avon           614   \n",
       "4             1/17/2021            5    Barkhamsted           115   \n",
       "...                 ...          ...            ...           ...   \n",
       "102240        6/24/2022          165  Windsor Locks          2702   \n",
       "102241        6/24/2022          166        Wolcott          4089   \n",
       "102242        6/24/2022          167     Woodbridge          1699   \n",
       "102243        6/24/2022          168       Woodbury          1646   \n",
       "102244        6/24/2022          169      Woodstock          1440   \n",
       "\n",
       "        Confirmed cases  Probable cases  Case rate  Total deaths  \\\n",
       "0                 109.0             9.0     3652.0             2   \n",
       "1                1131.0           105.0     6602.0            20   \n",
       "2                 155.0             3.0     3708.0             3   \n",
       "3                 591.0            23.0     3355.0            63   \n",
       "4                 112.0             3.0     3173.0             1   \n",
       "...                 ...             ...        ...           ...   \n",
       "102240           2507.0           195.0    21021.0            44   \n",
       "102241           3557.0           532.0    24652.0            64   \n",
       "102242           1519.0           180.0    19417.0            48   \n",
       "102243           1367.0           279.0    17323.0            12   \n",
       "102244           1391.0            49.0    18325.0             7   \n",
       "\n",
       "        Confirmed deaths  Probable deaths  People tested  \\\n",
       "0                    2.0              0.0         1386.0   \n",
       "1                   13.0              7.0         8358.0   \n",
       "2                    3.0              0.0         1917.0   \n",
       "3                   52.0             11.0         8980.0   \n",
       "4                    1.0              0.0         1521.0   \n",
       "...                  ...              ...            ...   \n",
       "102240              40.0              4.0        10507.0   \n",
       "102241              54.0             10.0        14324.0   \n",
       "102242              42.0              6.0         8668.0   \n",
       "102243              10.0              2.0         7918.0   \n",
       "102244               7.0              0.0         6740.0   \n",
       "\n",
       "        Rate tested per 100k  Number of tests  Number of positives  \\\n",
       "0                    42897.0           3018.0                134.0   \n",
       "1                    44645.0          22604.0               1451.0   \n",
       "2                    44989.0           4432.0                180.0   \n",
       "3                    49066.0          23448.0                700.0   \n",
       "4                    41970.0           3877.0                126.0   \n",
       "...                      ...              ...                  ...   \n",
       "102240               81741.0          44778.0               3347.0   \n",
       "102241               86357.0          71416.0               5163.0   \n",
       "102242               99063.0          50559.0               2115.0   \n",
       "102243               83330.0          34243.0               2023.0   \n",
       "102244               85772.0          23654.0               1680.0   \n",
       "\n",
       "        Number of negatives  Number of indeterminates  \n",
       "0                    2882.0                       2.0  \n",
       "1                   21074.0                      79.0  \n",
       "2                    4249.0                       3.0  \n",
       "3                   22712.0                      36.0  \n",
       "4                    3743.0                       8.0  \n",
       "...                     ...                       ...  \n",
       "102240              41376.0                      55.0  \n",
       "102241              66148.0                     105.0  \n",
       "102242              48373.0                      71.0  \n",
       "102243              32192.0                      28.0  \n",
       "102244              21945.0                      29.0  \n",
       "\n",
       "[102245 rows x 16 columns]"
      ]
     },
     "execution_count": 695,
     "metadata": {},
     "output_type": "execute_result"
    }
   ],
   "source": [
    "wk3 = pd.read_csv('COVID-19_Tests__Cases__and_Deaths__By_Town__-_ARCHIVE_20231023.csv')\n",
    "wk3"
   ]
  },
  {
   "cell_type": "markdown",
   "id": "fc08e48d-6544-4706-9d3d-0e0983a6fc64",
   "metadata": {},
   "source": [
    "#### Dataset Shape"
   ]
  },
  {
   "cell_type": "code",
   "execution_count": 696,
   "id": "6c626f3a-314d-4f1e-a215-b76dd78d4813",
   "metadata": {
    "tags": []
   },
   "outputs": [
    {
     "data": {
      "text/plain": [
       "(102245, 16)"
      ]
     },
     "execution_count": 696,
     "metadata": {},
     "output_type": "execute_result"
    }
   ],
   "source": [
    "wk3.shape"
   ]
  },
  {
   "cell_type": "markdown",
   "id": "acff318f-45d3-4916-ac0e-861d0a1c7374",
   "metadata": {},
   "source": [
    "#### Columns and Data types"
   ]
  },
  {
   "cell_type": "code",
   "execution_count": 697,
   "id": "e588ae8f-06a0-4f64-aebc-3892c54fe400",
   "metadata": {
    "tags": []
   },
   "outputs": [
    {
     "data": {
      "text/plain": [
       "Index(['Last update date', 'Town number', 'Town', 'Total cases ',\n",
       "       'Confirmed cases', 'Probable cases', 'Case rate', 'Total deaths',\n",
       "       'Confirmed deaths', 'Probable deaths', 'People tested',\n",
       "       'Rate tested per 100k', 'Number of tests', 'Number of positives',\n",
       "       'Number of negatives', 'Number of indeterminates'],\n",
       "      dtype='object')"
      ]
     },
     "execution_count": 697,
     "metadata": {},
     "output_type": "execute_result"
    }
   ],
   "source": [
    "wk3.columns"
   ]
  },
  {
   "cell_type": "code",
   "execution_count": 698,
   "id": "14d08ea6-7667-4da9-ac6e-ead4526b96d8",
   "metadata": {
    "tags": []
   },
   "outputs": [
    {
     "data": {
      "text/plain": [
       "Last update date             object\n",
       "Town number                   int64\n",
       "Town                         object\n",
       "Total cases                   int64\n",
       "Confirmed cases             float64\n",
       "Probable cases              float64\n",
       "Case rate                   float64\n",
       "Total deaths                  int64\n",
       "Confirmed deaths            float64\n",
       "Probable deaths             float64\n",
       "People tested               float64\n",
       "Rate tested per 100k        float64\n",
       "Number of tests             float64\n",
       "Number of positives         float64\n",
       "Number of negatives         float64\n",
       "Number of indeterminates    float64\n",
       "dtype: object"
      ]
     },
     "execution_count": 698,
     "metadata": {},
     "output_type": "execute_result"
    }
   ],
   "source": [
    "wk3.dtypes"
   ]
  },
  {
   "cell_type": "code",
   "execution_count": 699,
   "id": "c84f3657-6d91-4b3d-b47b-a58c5fe3ef04",
   "metadata": {
    "tags": []
   },
   "outputs": [
    {
     "data": {
      "text/plain": [
       "Last update date                0\n",
       "Town number                     0\n",
       "Town                            0\n",
       "Total cases                     0\n",
       "Confirmed cases             11492\n",
       "Probable cases              11492\n",
       "Case rate                    3887\n",
       "Total deaths                    0\n",
       "Confirmed deaths            11492\n",
       "Probable deaths             11492\n",
       "People tested                8957\n",
       "Rate tested per 100k         9633\n",
       "Number of tests             11492\n",
       "Number of positives         11492\n",
       "Number of negatives         11492\n",
       "Number of indeterminates    11492\n",
       "dtype: int64"
      ]
     },
     "execution_count": 699,
     "metadata": {},
     "output_type": "execute_result"
    }
   ],
   "source": [
    "wk3.isna().sum()"
   ]
  },
  {
   "cell_type": "code",
   "execution_count": 700,
   "id": "55660d65-c15c-491c-b0cd-f6cb1aa8aaa8",
   "metadata": {
    "tags": []
   },
   "outputs": [
    {
     "data": {
      "text/plain": [
       "0         False\n",
       "1         False\n",
       "2         False\n",
       "3         False\n",
       "4         False\n",
       "          ...  \n",
       "102240    False\n",
       "102241    False\n",
       "102242    False\n",
       "102243    False\n",
       "102244    False\n",
       "Length: 102245, dtype: bool"
      ]
     },
     "execution_count": 700,
     "metadata": {},
     "output_type": "execute_result"
    }
   ],
   "source": [
    "wk3.duplicated()"
   ]
  },
  {
   "cell_type": "markdown",
   "id": "cfe4c595-e374-4c46-a1b6-ddf87a8fa7b0",
   "metadata": {},
   "source": [
    "#### Droping null values"
   ]
  },
  {
   "cell_type": "code",
   "execution_count": 701,
   "id": "08bfe2c2-eb33-4591-be0b-224a83f7387a",
   "metadata": {
    "tags": []
   },
   "outputs": [
    {
     "data": {
      "text/html": [
       "<div>\n",
       "<style scoped>\n",
       "    .dataframe tbody tr th:only-of-type {\n",
       "        vertical-align: middle;\n",
       "    }\n",
       "\n",
       "    .dataframe tbody tr th {\n",
       "        vertical-align: top;\n",
       "    }\n",
       "\n",
       "    .dataframe thead th {\n",
       "        text-align: right;\n",
       "    }\n",
       "</style>\n",
       "<table border=\"1\" class=\"dataframe\">\n",
       "  <thead>\n",
       "    <tr style=\"text-align: right;\">\n",
       "      <th></th>\n",
       "      <th>Last update date</th>\n",
       "      <th>Town number</th>\n",
       "      <th>Town</th>\n",
       "      <th>Total cases</th>\n",
       "      <th>Confirmed cases</th>\n",
       "      <th>Probable cases</th>\n",
       "      <th>Case rate</th>\n",
       "      <th>Total deaths</th>\n",
       "      <th>Confirmed deaths</th>\n",
       "      <th>Probable deaths</th>\n",
       "      <th>People tested</th>\n",
       "      <th>Rate tested per 100k</th>\n",
       "      <th>Number of tests</th>\n",
       "      <th>Number of positives</th>\n",
       "      <th>Number of negatives</th>\n",
       "      <th>Number of indeterminates</th>\n",
       "    </tr>\n",
       "  </thead>\n",
       "  <tbody>\n",
       "    <tr>\n",
       "      <th>0</th>\n",
       "      <td>1/17/2021</td>\n",
       "      <td>1</td>\n",
       "      <td>Andover</td>\n",
       "      <td>118</td>\n",
       "      <td>109.0</td>\n",
       "      <td>9.0</td>\n",
       "      <td>3652.0</td>\n",
       "      <td>2</td>\n",
       "      <td>2.0</td>\n",
       "      <td>0.0</td>\n",
       "      <td>1386.0</td>\n",
       "      <td>42897.0</td>\n",
       "      <td>3018.0</td>\n",
       "      <td>134.0</td>\n",
       "      <td>2882.0</td>\n",
       "      <td>2.0</td>\n",
       "    </tr>\n",
       "    <tr>\n",
       "      <th>1</th>\n",
       "      <td>1/17/2021</td>\n",
       "      <td>2</td>\n",
       "      <td>Ansonia</td>\n",
       "      <td>1236</td>\n",
       "      <td>1131.0</td>\n",
       "      <td>105.0</td>\n",
       "      <td>6602.0</td>\n",
       "      <td>20</td>\n",
       "      <td>13.0</td>\n",
       "      <td>7.0</td>\n",
       "      <td>8358.0</td>\n",
       "      <td>44645.0</td>\n",
       "      <td>22604.0</td>\n",
       "      <td>1451.0</td>\n",
       "      <td>21074.0</td>\n",
       "      <td>79.0</td>\n",
       "    </tr>\n",
       "    <tr>\n",
       "      <th>2</th>\n",
       "      <td>1/17/2021</td>\n",
       "      <td>3</td>\n",
       "      <td>Ashford</td>\n",
       "      <td>158</td>\n",
       "      <td>155.0</td>\n",
       "      <td>3.0</td>\n",
       "      <td>3708.0</td>\n",
       "      <td>3</td>\n",
       "      <td>3.0</td>\n",
       "      <td>0.0</td>\n",
       "      <td>1917.0</td>\n",
       "      <td>44989.0</td>\n",
       "      <td>4432.0</td>\n",
       "      <td>180.0</td>\n",
       "      <td>4249.0</td>\n",
       "      <td>3.0</td>\n",
       "    </tr>\n",
       "    <tr>\n",
       "      <th>3</th>\n",
       "      <td>1/17/2021</td>\n",
       "      <td>4</td>\n",
       "      <td>Avon</td>\n",
       "      <td>614</td>\n",
       "      <td>591.0</td>\n",
       "      <td>23.0</td>\n",
       "      <td>3355.0</td>\n",
       "      <td>63</td>\n",
       "      <td>52.0</td>\n",
       "      <td>11.0</td>\n",
       "      <td>8980.0</td>\n",
       "      <td>49066.0</td>\n",
       "      <td>23448.0</td>\n",
       "      <td>700.0</td>\n",
       "      <td>22712.0</td>\n",
       "      <td>36.0</td>\n",
       "    </tr>\n",
       "    <tr>\n",
       "      <th>4</th>\n",
       "      <td>1/17/2021</td>\n",
       "      <td>5</td>\n",
       "      <td>Barkhamsted</td>\n",
       "      <td>115</td>\n",
       "      <td>112.0</td>\n",
       "      <td>3.0</td>\n",
       "      <td>3173.0</td>\n",
       "      <td>1</td>\n",
       "      <td>1.0</td>\n",
       "      <td>0.0</td>\n",
       "      <td>1521.0</td>\n",
       "      <td>41970.0</td>\n",
       "      <td>3877.0</td>\n",
       "      <td>126.0</td>\n",
       "      <td>3743.0</td>\n",
       "      <td>8.0</td>\n",
       "    </tr>\n",
       "    <tr>\n",
       "      <th>...</th>\n",
       "      <td>...</td>\n",
       "      <td>...</td>\n",
       "      <td>...</td>\n",
       "      <td>...</td>\n",
       "      <td>...</td>\n",
       "      <td>...</td>\n",
       "      <td>...</td>\n",
       "      <td>...</td>\n",
       "      <td>...</td>\n",
       "      <td>...</td>\n",
       "      <td>...</td>\n",
       "      <td>...</td>\n",
       "      <td>...</td>\n",
       "      <td>...</td>\n",
       "      <td>...</td>\n",
       "      <td>...</td>\n",
       "    </tr>\n",
       "    <tr>\n",
       "      <th>102240</th>\n",
       "      <td>6/24/2022</td>\n",
       "      <td>165</td>\n",
       "      <td>Windsor Locks</td>\n",
       "      <td>2702</td>\n",
       "      <td>2507.0</td>\n",
       "      <td>195.0</td>\n",
       "      <td>21021.0</td>\n",
       "      <td>44</td>\n",
       "      <td>40.0</td>\n",
       "      <td>4.0</td>\n",
       "      <td>10507.0</td>\n",
       "      <td>81741.0</td>\n",
       "      <td>44778.0</td>\n",
       "      <td>3347.0</td>\n",
       "      <td>41376.0</td>\n",
       "      <td>55.0</td>\n",
       "    </tr>\n",
       "    <tr>\n",
       "      <th>102241</th>\n",
       "      <td>6/24/2022</td>\n",
       "      <td>166</td>\n",
       "      <td>Wolcott</td>\n",
       "      <td>4089</td>\n",
       "      <td>3557.0</td>\n",
       "      <td>532.0</td>\n",
       "      <td>24652.0</td>\n",
       "      <td>64</td>\n",
       "      <td>54.0</td>\n",
       "      <td>10.0</td>\n",
       "      <td>14324.0</td>\n",
       "      <td>86357.0</td>\n",
       "      <td>71416.0</td>\n",
       "      <td>5163.0</td>\n",
       "      <td>66148.0</td>\n",
       "      <td>105.0</td>\n",
       "    </tr>\n",
       "    <tr>\n",
       "      <th>102242</th>\n",
       "      <td>6/24/2022</td>\n",
       "      <td>167</td>\n",
       "      <td>Woodbridge</td>\n",
       "      <td>1699</td>\n",
       "      <td>1519.0</td>\n",
       "      <td>180.0</td>\n",
       "      <td>19417.0</td>\n",
       "      <td>48</td>\n",
       "      <td>42.0</td>\n",
       "      <td>6.0</td>\n",
       "      <td>8668.0</td>\n",
       "      <td>99063.0</td>\n",
       "      <td>50559.0</td>\n",
       "      <td>2115.0</td>\n",
       "      <td>48373.0</td>\n",
       "      <td>71.0</td>\n",
       "    </tr>\n",
       "    <tr>\n",
       "      <th>102243</th>\n",
       "      <td>6/24/2022</td>\n",
       "      <td>168</td>\n",
       "      <td>Woodbury</td>\n",
       "      <td>1646</td>\n",
       "      <td>1367.0</td>\n",
       "      <td>279.0</td>\n",
       "      <td>17323.0</td>\n",
       "      <td>12</td>\n",
       "      <td>10.0</td>\n",
       "      <td>2.0</td>\n",
       "      <td>7918.0</td>\n",
       "      <td>83330.0</td>\n",
       "      <td>34243.0</td>\n",
       "      <td>2023.0</td>\n",
       "      <td>32192.0</td>\n",
       "      <td>28.0</td>\n",
       "    </tr>\n",
       "    <tr>\n",
       "      <th>102244</th>\n",
       "      <td>6/24/2022</td>\n",
       "      <td>169</td>\n",
       "      <td>Woodstock</td>\n",
       "      <td>1440</td>\n",
       "      <td>1391.0</td>\n",
       "      <td>49.0</td>\n",
       "      <td>18325.0</td>\n",
       "      <td>7</td>\n",
       "      <td>7.0</td>\n",
       "      <td>0.0</td>\n",
       "      <td>6740.0</td>\n",
       "      <td>85772.0</td>\n",
       "      <td>23654.0</td>\n",
       "      <td>1680.0</td>\n",
       "      <td>21945.0</td>\n",
       "      <td>29.0</td>\n",
       "    </tr>\n",
       "  </tbody>\n",
       "</table>\n",
       "<p>90753 rows × 16 columns</p>\n",
       "</div>"
      ],
      "text/plain": [
       "       Last update date  Town number           Town  Total cases   \\\n",
       "0             1/17/2021            1        Andover           118   \n",
       "1             1/17/2021            2        Ansonia          1236   \n",
       "2             1/17/2021            3        Ashford           158   \n",
       "3             1/17/2021            4           Avon           614   \n",
       "4             1/17/2021            5    Barkhamsted           115   \n",
       "...                 ...          ...            ...           ...   \n",
       "102240        6/24/2022          165  Windsor Locks          2702   \n",
       "102241        6/24/2022          166        Wolcott          4089   \n",
       "102242        6/24/2022          167     Woodbridge          1699   \n",
       "102243        6/24/2022          168       Woodbury          1646   \n",
       "102244        6/24/2022          169      Woodstock          1440   \n",
       "\n",
       "        Confirmed cases  Probable cases  Case rate  Total deaths  \\\n",
       "0                 109.0             9.0     3652.0             2   \n",
       "1                1131.0           105.0     6602.0            20   \n",
       "2                 155.0             3.0     3708.0             3   \n",
       "3                 591.0            23.0     3355.0            63   \n",
       "4                 112.0             3.0     3173.0             1   \n",
       "...                 ...             ...        ...           ...   \n",
       "102240           2507.0           195.0    21021.0            44   \n",
       "102241           3557.0           532.0    24652.0            64   \n",
       "102242           1519.0           180.0    19417.0            48   \n",
       "102243           1367.0           279.0    17323.0            12   \n",
       "102244           1391.0            49.0    18325.0             7   \n",
       "\n",
       "        Confirmed deaths  Probable deaths  People tested  \\\n",
       "0                    2.0              0.0         1386.0   \n",
       "1                   13.0              7.0         8358.0   \n",
       "2                    3.0              0.0         1917.0   \n",
       "3                   52.0             11.0         8980.0   \n",
       "4                    1.0              0.0         1521.0   \n",
       "...                  ...              ...            ...   \n",
       "102240              40.0              4.0        10507.0   \n",
       "102241              54.0             10.0        14324.0   \n",
       "102242              42.0              6.0         8668.0   \n",
       "102243              10.0              2.0         7918.0   \n",
       "102244               7.0              0.0         6740.0   \n",
       "\n",
       "        Rate tested per 100k  Number of tests  Number of positives  \\\n",
       "0                    42897.0           3018.0                134.0   \n",
       "1                    44645.0          22604.0               1451.0   \n",
       "2                    44989.0           4432.0                180.0   \n",
       "3                    49066.0          23448.0                700.0   \n",
       "4                    41970.0           3877.0                126.0   \n",
       "...                      ...              ...                  ...   \n",
       "102240               81741.0          44778.0               3347.0   \n",
       "102241               86357.0          71416.0               5163.0   \n",
       "102242               99063.0          50559.0               2115.0   \n",
       "102243               83330.0          34243.0               2023.0   \n",
       "102244               85772.0          23654.0               1680.0   \n",
       "\n",
       "        Number of negatives  Number of indeterminates  \n",
       "0                    2882.0                       2.0  \n",
       "1                   21074.0                      79.0  \n",
       "2                    4249.0                       3.0  \n",
       "3                   22712.0                      36.0  \n",
       "4                    3743.0                       8.0  \n",
       "...                     ...                       ...  \n",
       "102240              41376.0                      55.0  \n",
       "102241              66148.0                     105.0  \n",
       "102242              48373.0                      71.0  \n",
       "102243              32192.0                      28.0  \n",
       "102244              21945.0                      29.0  \n",
       "\n",
       "[90753 rows x 16 columns]"
      ]
     },
     "execution_count": 701,
     "metadata": {},
     "output_type": "execute_result"
    }
   ],
   "source": [
    "wk3 = wk3.dropna().copy()\n",
    "wk3"
   ]
  },
  {
   "cell_type": "markdown",
   "id": "611c4ff9-be61-464d-9adc-7854d50df0d0",
   "metadata": {},
   "source": [
    "#### Date format"
   ]
  },
  {
   "cell_type": "code",
   "execution_count": 784,
   "id": "e17ccd13-b8bc-4c6f-9930-c4d1f459bb0f",
   "metadata": {
    "tags": []
   },
   "outputs": [],
   "source": [
    "wk3['Last update date'] = pd.to_datetime(wk3['Last update date'])"
   ]
  },
  {
   "cell_type": "markdown",
   "id": "4c17196d-4e91-4473-9f18-1591914b1a69",
   "metadata": {},
   "source": [
    "#### Changing Dtypes to  int"
   ]
  },
  {
   "cell_type": "code",
   "execution_count": 790,
   "id": "dce6152c-6718-46ec-9d3a-1ab6cb98f6f9",
   "metadata": {
    "tags": []
   },
   "outputs": [],
   "source": [
    "wk3['Confirmed_Cases'] = wk3['Confirmed_Cases'].astype(int)\n",
    "wk3['Probable_Cases'] = wk3['Probable_Cases'].astype(int)\n",
    "wk3['Case_Rate'] = wk3['Case_Rate'].astype(int)\n",
    "wk3['Total_Deaths'] = wk3['Total_Deaths'].astype(int)\n",
    "wk3['Confirmed_Deaths'] = wk3['Confirmed_Deaths'].astype(int)\n",
    "wk3['Probable deaths'] = wk3['Probable deaths'].astype(int)\n",
    "wk3['People tested'] = wk3['People tested'].astype(int)\n",
    "wk3['Rate tested per 100k'] = wk3['Rate tested per 100k'].astype(int)\n",
    "wk3['Number of tests'] = wk3['Number of tests'].astype(int) \n",
    "wk3['Number of positives'] = wk3['Number of positives'].astype(int)       \n",
    "wk3['Number of negatives'] = wk3['Number of negatives'].astype(int)    \n",
    "wk3['Number of indeterminates'] = wk3['Number of indeterminates'].astype(int)"
   ]
  },
  {
   "cell_type": "code",
   "execution_count": 791,
   "id": "812e0e4a-66ff-4362-a5af-2ce8211cbdac",
   "metadata": {
    "tags": []
   },
   "outputs": [
    {
     "data": {
      "text/plain": [
       "Last update date            datetime64[ns]\n",
       "Town number                          int64\n",
       "Town                                object\n",
       "Total_Cases                          int64\n",
       "Confirmed_Cases                      int32\n",
       "Probable_Cases                       int32\n",
       "Case_Rate                            int32\n",
       "Total_Deaths                         int32\n",
       "Confirmed_Deaths                     int32\n",
       "Probable deaths                      int32\n",
       "People tested                        int32\n",
       "Rate tested per 100k                 int32\n",
       "Number of tests                      int32\n",
       "Number of positives                  int32\n",
       "Number of negatives                  int32\n",
       "Number of indeterminates             int32\n",
       "zscoreC                            float64\n",
       "zscoreD                            float64\n",
       "dtype: object"
      ]
     },
     "execution_count": 791,
     "metadata": {},
     "output_type": "execute_result"
    }
   ],
   "source": [
    "wk3.dtypes"
   ]
  },
  {
   "cell_type": "markdown",
   "id": "c37cf168-0340-4e95-96a1-9a7792347f81",
   "metadata": {},
   "source": [
    "#### Five Number Summary and Central tendency"
   ]
  },
  {
   "cell_type": "code",
   "execution_count": 792,
   "id": "7d865f6a-1f5c-44b3-ab33-a224a377b031",
   "metadata": {
    "tags": []
   },
   "outputs": [
    {
     "data": {
      "text/html": [
       "<div>\n",
       "<style scoped>\n",
       "    .dataframe tbody tr th:only-of-type {\n",
       "        vertical-align: middle;\n",
       "    }\n",
       "\n",
       "    .dataframe tbody tr th {\n",
       "        vertical-align: top;\n",
       "    }\n",
       "\n",
       "    .dataframe thead th {\n",
       "        text-align: right;\n",
       "    }\n",
       "</style>\n",
       "<table border=\"1\" class=\"dataframe\">\n",
       "  <thead>\n",
       "    <tr style=\"text-align: right;\">\n",
       "      <th></th>\n",
       "      <th>Total_Cases</th>\n",
       "      <th>Confirmed_Deaths</th>\n",
       "    </tr>\n",
       "  </thead>\n",
       "  <tbody>\n",
       "    <tr>\n",
       "      <th>count</th>\n",
       "      <td>90753.000000</td>\n",
       "      <td>90753.000000</td>\n",
       "    </tr>\n",
       "    <tr>\n",
       "      <th>mean</th>\n",
       "      <td>2095.054356</td>\n",
       "      <td>36.936762</td>\n",
       "    </tr>\n",
       "    <tr>\n",
       "      <th>std</th>\n",
       "      <td>4082.136179</td>\n",
       "      <td>57.318724</td>\n",
       "    </tr>\n",
       "    <tr>\n",
       "      <th>min</th>\n",
       "      <td>0.000000</td>\n",
       "      <td>0.000000</td>\n",
       "    </tr>\n",
       "    <tr>\n",
       "      <th>25%</th>\n",
       "      <td>191.000000</td>\n",
       "      <td>2.000000</td>\n",
       "    </tr>\n",
       "    <tr>\n",
       "      <th>50%</th>\n",
       "      <td>700.000000</td>\n",
       "      <td>13.000000</td>\n",
       "    </tr>\n",
       "    <tr>\n",
       "      <th>75%</th>\n",
       "      <td>2111.000000</td>\n",
       "      <td>44.000000</td>\n",
       "    </tr>\n",
       "    <tr>\n",
       "      <th>max</th>\n",
       "      <td>42752.000000</td>\n",
       "      <td>442.000000</td>\n",
       "    </tr>\n",
       "  </tbody>\n",
       "</table>\n",
       "</div>"
      ],
      "text/plain": [
       "        Total_Cases  Confirmed_Deaths\n",
       "count  90753.000000      90753.000000\n",
       "mean    2095.054356         36.936762\n",
       "std     4082.136179         57.318724\n",
       "min        0.000000          0.000000\n",
       "25%      191.000000          2.000000\n",
       "50%      700.000000         13.000000\n",
       "75%     2111.000000         44.000000\n",
       "max    42752.000000        442.000000"
      ]
     },
     "execution_count": 792,
     "metadata": {},
     "output_type": "execute_result"
    }
   ],
   "source": [
    "wk3[['Total_Cases', 'Confirmed_Deaths']].describe()"
   ]
  },
  {
   "cell_type": "code",
   "execution_count": 798,
   "id": "4d37e769-17ca-4436-948e-5d54d2e4d4e8",
   "metadata": {
    "tags": []
   },
   "outputs": [
    {
     "data": {
      "text/plain": [
       "Total_Cases                   700.0\n",
       "Confirmed_Cases               644.0\n",
       "Probable_Cases                 52.0\n",
       "Case_Rate                    6996.0\n",
       "Total_Deaths                   17.0\n",
       "Confirmed_Deaths               13.0\n",
       "Probable deaths                 3.0\n",
       "People tested                6025.0\n",
       "Rate tested per 100k        62315.0\n",
       "Number of tests             18388.0\n",
       "Number of positives           833.0\n",
       "Number of negatives         17512.0\n",
       "Number of indeterminates       18.0\n",
       "dtype: float64"
      ]
     },
     "execution_count": 798,
     "metadata": {},
     "output_type": "execute_result"
    }
   ],
   "source": [
    "wk3[['Total_Cases',\n",
    "       'Confirmed_Cases', 'Probable_Cases', 'Case_Rate', 'Total_Deaths',\n",
    "       'Confirmed_Deaths', 'Probable deaths', 'People tested',\n",
    "       'Rate tested per 100k', 'Number of tests', 'Number of positives',\n",
    "       'Number of negatives', 'Number of indeterminates']].median()"
   ]
  },
  {
   "cell_type": "code",
   "execution_count": 799,
   "id": "2a233b9e-e64d-4503-8441-dad543315e8f",
   "metadata": {
    "tags": []
   },
   "outputs": [
    {
     "data": {
      "text/html": [
       "<div>\n",
       "<style scoped>\n",
       "    .dataframe tbody tr th:only-of-type {\n",
       "        vertical-align: middle;\n",
       "    }\n",
       "\n",
       "    .dataframe tbody tr th {\n",
       "        vertical-align: top;\n",
       "    }\n",
       "\n",
       "    .dataframe thead th {\n",
       "        text-align: right;\n",
       "    }\n",
       "</style>\n",
       "<table border=\"1\" class=\"dataframe\">\n",
       "  <thead>\n",
       "    <tr style=\"text-align: right;\">\n",
       "      <th></th>\n",
       "      <th>Total_Cases</th>\n",
       "      <th>Confirmed_Cases</th>\n",
       "      <th>Probable_Cases</th>\n",
       "      <th>Case_Rate</th>\n",
       "      <th>Total_Deaths</th>\n",
       "      <th>Confirmed_Deaths</th>\n",
       "      <th>Probable deaths</th>\n",
       "      <th>People tested</th>\n",
       "      <th>Rate tested per 100k</th>\n",
       "      <th>Number of tests</th>\n",
       "      <th>Number of positives</th>\n",
       "      <th>Number of negatives</th>\n",
       "      <th>Number of indeterminates</th>\n",
       "    </tr>\n",
       "  </thead>\n",
       "  <tbody>\n",
       "    <tr>\n",
       "      <th>0</th>\n",
       "      <td>5.0</td>\n",
       "      <td>13.0</td>\n",
       "      <td>0.0</td>\n",
       "      <td>0.0</td>\n",
       "      <td>0.0</td>\n",
       "      <td>0.0</td>\n",
       "      <td>0.0</td>\n",
       "      <td>357.0</td>\n",
       "      <td>33903.0</td>\n",
       "      <td>182</td>\n",
       "      <td>6.0</td>\n",
       "      <td>108.0</td>\n",
       "      <td>0.0</td>\n",
       "    </tr>\n",
       "    <tr>\n",
       "      <th>1</th>\n",
       "      <td>NaN</td>\n",
       "      <td>NaN</td>\n",
       "      <td>NaN</td>\n",
       "      <td>NaN</td>\n",
       "      <td>NaN</td>\n",
       "      <td>NaN</td>\n",
       "      <td>NaN</td>\n",
       "      <td>NaN</td>\n",
       "      <td>NaN</td>\n",
       "      <td>468</td>\n",
       "      <td>NaN</td>\n",
       "      <td>238.0</td>\n",
       "      <td>NaN</td>\n",
       "    </tr>\n",
       "    <tr>\n",
       "      <th>2</th>\n",
       "      <td>NaN</td>\n",
       "      <td>NaN</td>\n",
       "      <td>NaN</td>\n",
       "      <td>NaN</td>\n",
       "      <td>NaN</td>\n",
       "      <td>NaN</td>\n",
       "      <td>NaN</td>\n",
       "      <td>NaN</td>\n",
       "      <td>NaN</td>\n",
       "      <td>646</td>\n",
       "      <td>NaN</td>\n",
       "      <td>NaN</td>\n",
       "      <td>NaN</td>\n",
       "    </tr>\n",
       "  </tbody>\n",
       "</table>\n",
       "</div>"
      ],
      "text/plain": [
       "   Total_Cases  Confirmed_Cases  Probable_Cases  Case_Rate  Total_Deaths  \\\n",
       "0          5.0             13.0             0.0        0.0           0.0   \n",
       "1          NaN              NaN             NaN        NaN           NaN   \n",
       "2          NaN              NaN             NaN        NaN           NaN   \n",
       "\n",
       "   Confirmed_Deaths  Probable deaths  People tested  Rate tested per 100k  \\\n",
       "0               0.0              0.0          357.0               33903.0   \n",
       "1               NaN              NaN            NaN                   NaN   \n",
       "2               NaN              NaN            NaN                   NaN   \n",
       "\n",
       "   Number of tests  Number of positives  Number of negatives  \\\n",
       "0              182                  6.0                108.0   \n",
       "1              468                  NaN                238.0   \n",
       "2              646                  NaN                  NaN   \n",
       "\n",
       "   Number of indeterminates  \n",
       "0                       0.0  \n",
       "1                       NaN  \n",
       "2                       NaN  "
      ]
     },
     "execution_count": 799,
     "metadata": {},
     "output_type": "execute_result"
    }
   ],
   "source": [
    "wk3[['Total_Cases',\n",
    "       'Confirmed_Cases', 'Probable_Cases', 'Case_Rate', 'Total_Deaths',\n",
    "       'Confirmed_Deaths', 'Probable deaths', 'People tested',\n",
    "       'Rate tested per 100k', 'Number of tests', 'Number of positives',\n",
    "       'Number of negatives', 'Number of indeterminates']].mode()"
   ]
  },
  {
   "cell_type": "code",
   "execution_count": 801,
   "id": "e4257432-2f9b-4ed5-806d-2e271989e9ed",
   "metadata": {
    "tags": []
   },
   "outputs": [
    {
     "data": {
      "text/plain": [
       "Total_Cases                  2095.054356\n",
       "Confirmed_Cases              1903.153736\n",
       "Probable_Cases                191.900587\n",
       "Case_Rate                    8205.134883\n",
       "Total_Deaths                   45.237325\n",
       "Confirmed_Deaths               36.936762\n",
       "Probable deaths                 8.300563\n",
       "People tested               12433.947693\n",
       "Rate tested per 100k        56437.165835\n",
       "Number of tests             49617.158110\n",
       "Number of positives          2559.576697\n",
       "Number of negatives         46999.232069\n",
       "Number of indeterminates       58.349344\n",
       "dtype: float64"
      ]
     },
     "execution_count": 801,
     "metadata": {},
     "output_type": "execute_result"
    }
   ],
   "source": [
    "wk3[['Total_Cases',\n",
    "       'Confirmed_Cases', 'Probable_Cases', 'Case_Rate', 'Total_Deaths',\n",
    "       'Confirmed_Deaths', 'Probable deaths', 'People tested',\n",
    "       'Rate tested per 100k', 'Number of tests', 'Number of positives',\n",
    "       'Number of negatives', 'Number of indeterminates']].mean()"
   ]
  },
  {
   "cell_type": "code",
   "execution_count": 802,
   "id": "0fd6aaa5-7b92-4db1-8bb6-79e61759f3ad",
   "metadata": {
    "tags": []
   },
   "outputs": [],
   "source": [
    "wk3.rename(columns={'Total cases ':'Total_Cases', 'Confirmed cases':'Confirmed_Cases', 'Probable cases':'Probable_Cases', 'Case rate':'Case_Rate', 'Total deaths':'Total_Deaths', 'Confirmed deaths':'Confirmed_Deaths'},inplace=True)"
   ]
  },
  {
   "cell_type": "markdown",
   "id": "debd6b05-5045-4941-898b-28a5cab1f225",
   "metadata": {
    "tags": []
   },
   "source": [
    "### Standarizing data"
   ]
  },
  {
   "cell_type": "markdown",
   "id": "f49978db-4c02-4db3-bf90-bbf350ff1e8a",
   "metadata": {
    "tags": []
   },
   "source": [
    "#### Z-score standarization\n",
    "#### scaled values= value-mean/sd"
   ]
  },
  {
   "cell_type": "code",
   "execution_count": 803,
   "id": "431b6097-61de-44eb-acf8-59f640f273be",
   "metadata": {
    "tags": []
   },
   "outputs": [],
   "source": [
    "wk3['zscoreC'] = (wk3.Total_Cases - wk3.Total_Cases.mean()) / wk3.Total_Cases.std()"
   ]
  },
  {
   "cell_type": "code",
   "execution_count": 804,
   "id": "3b5efb13-c0d5-4b3f-b29b-80f1d2dc55b4",
   "metadata": {
    "tags": []
   },
   "outputs": [],
   "source": [
    "wk3['zscoreD'] = (wk3.Confirmed_Deaths - wk3.Confirmed_Deaths.mean()) / wk3.Confirmed_Deaths.std()"
   ]
  },
  {
   "cell_type": "markdown",
   "id": "2902dd62-1400-4399-9bb0-740fc3cc69e6",
   "metadata": {},
   "source": [
    "#### Rejecting all values with zscores higher than 3 and lower than -3"
   ]
  },
  {
   "cell_type": "code",
   "execution_count": 805,
   "id": "6df9fb61-d080-4eda-8fd6-acc100cfb9b1",
   "metadata": {
    "tags": []
   },
   "outputs": [],
   "source": [
    "wk3C = wk3[(wk3.zscoreC>-3) & (wk3.zscoreC<3)]"
   ]
  },
  {
   "cell_type": "code",
   "execution_count": 806,
   "id": "26297715-e580-48db-8d63-cc405f91eb81",
   "metadata": {
    "tags": []
   },
   "outputs": [],
   "source": [
    "wk3D = wk3C[(wk3C.zscoreD>-3) & (wk3C.zscoreD<3)]"
   ]
  },
  {
   "cell_type": "code",
   "execution_count": 807,
   "id": "b48a1760-b626-497e-ab4d-33b2ba223009",
   "metadata": {
    "tags": []
   },
   "outputs": [
    {
     "data": {
      "text/plain": [
       "-2294"
      ]
     },
     "execution_count": 807,
     "metadata": {},
     "output_type": "execute_result"
    }
   ],
   "source": [
    "wk3D.shape[0] - wk3.shape[0]"
   ]
  },
  {
   "cell_type": "code",
   "execution_count": 808,
   "id": "06e08cea-52fe-45cb-aa13-4c7495d215c0",
   "metadata": {
    "tags": []
   },
   "outputs": [],
   "source": [
    "wk3f = wk3D.copy()"
   ]
  },
  {
   "cell_type": "markdown",
   "id": "6e2841f3-40e6-4184-9bc9-c563f2e26471",
   "metadata": {},
   "source": [
    "#### Univariate analysis"
   ]
  },
  {
   "cell_type": "code",
   "execution_count": 809,
   "id": "a665a59b-62f1-464f-851d-0c119b27462e",
   "metadata": {
    "tags": []
   },
   "outputs": [
    {
     "data": {
      "text/plain": [
       "<Axes: ylabel='Frequency'>"
      ]
     },
     "execution_count": 809,
     "metadata": {},
     "output_type": "execute_result"
    },
    {
     "data": {
      "image/png": "[encoded data removed]",
      "text/plain": [
       "<Figure size 640x480 with 1 Axes>"
      ]
     },
     "metadata": {},
     "output_type": "display_data"
    }
   ],
   "source": [
    "wk3f['People tested'].plot(kind='hist',color= 'lightblue', edgecolor= 'red', bins=10)\n"
   ]
  },
  {
   "cell_type": "code",
   "execution_count": 810,
   "id": "653ec824-34b7-4921-a1d4-205000ec5106",
   "metadata": {
    "tags": []
   },
   "outputs": [
    {
     "data": {
      "text/plain": [
       "Text(0.5, 1.0, 'Total Cases Distribution')"
      ]
     },
     "execution_count": 810,
     "metadata": {},
     "output_type": "execute_result"
    },
    {
     "data": {
      "image/png": "[encoded data removed]",
      "text/plain": [
       "<Figure size 640x480 with 1 Axes>"
      ]
     },
     "metadata": {},
     "output_type": "display_data"
    }
   ],
   "source": [
    "wk3f['Total_Cases'].plot(kind='hist',color= 'lightblue', edgecolor= 'red', bins=10)\n",
    "plt.title('Total Cases Distribution', pad = 10)"
   ]
  },
  {
   "cell_type": "code",
   "execution_count": 811,
   "id": "4bf7d856-a02b-4fa8-9538-053b18c421eb",
   "metadata": {
    "tags": []
   },
   "outputs": [
    {
     "data": {
      "text/plain": [
       "Text(0.5, 1.0, 'Confirmed Deaths Distribution')"
      ]
     },
     "execution_count": 811,
     "metadata": {},
     "output_type": "execute_result"
    },
    {
     "data": {
      "image/png": "[encoded data removed]",
      "text/plain": [
       "<Figure size 640x480 with 1 Axes>"
      ]
     },
     "metadata": {},
     "output_type": "display_data"
    }
   ],
   "source": [
    "wk3f['Confirmed_Deaths'].plot(kind='hist', color= 'lightblue', edgecolor= 'red', bins=10)\n",
    "plt.title('Confirmed Deaths Distribution', pad = 10)"
   ]
  },
  {
   "cell_type": "code",
   "execution_count": 812,
   "id": "1926b3f5-c529-49c6-b294-258f151fb554",
   "metadata": {
    "tags": []
   },
   "outputs": [
    {
     "data": {
      "text/plain": [
       "Total_Cases         2.677995\n",
       "Confirmed_Deaths    1.851864\n",
       "dtype: float64"
      ]
     },
     "execution_count": 812,
     "metadata": {},
     "output_type": "execute_result"
    }
   ],
   "source": [
    "wk3f[['Total_Cases','Confirmed_Deaths']].skew()"
   ]
  },
  {
   "cell_type": "code",
   "execution_count": 813,
   "id": "4c2c3713-cfed-433b-8c95-31fda94082cf",
   "metadata": {
    "tags": []
   },
   "outputs": [
    {
     "data": {
      "text/plain": [
       "Total_Cases         8.124083\n",
       "Confirmed_Deaths    2.871820\n",
       "dtype: float64"
      ]
     },
     "execution_count": 813,
     "metadata": {},
     "output_type": "execute_result"
    }
   ],
   "source": [
    "wk3f[['Total_Cases','Confirmed_Deaths']].kurtosis()"
   ]
  },
  {
   "cell_type": "code",
   "execution_count": 814,
   "id": "76987cb0-9fc6-4585-a18f-97739537a534",
   "metadata": {
    "tags": []
   },
   "outputs": [
    {
     "data": {
      "text/plain": [
       "Town\n",
       "Andover       537\n",
       "Oxford        537\n",
       "Plainville    537\n",
       "Plymouth      537\n",
       "Pomfret       537\n",
       "             ... \n",
       "New Haven     272\n",
       "Bridgeport    180\n",
       "Hartford      170\n",
       "Stamford      155\n",
       "Waterbury     152\n",
       "Name: count, Length: 169, dtype: int64"
      ]
     },
     "execution_count": 814,
     "metadata": {},
     "output_type": "execute_result"
    }
   ],
   "source": [
    "wk3f['Town'].value_counts()"
   ]
  },
  {
   "cell_type": "code",
   "execution_count": 815,
   "id": "dccd529a-085e-48bf-8414-80e094804376",
   "metadata": {
    "tags": []
   },
   "outputs": [
    {
     "data": {
      "text/html": [
       "<div>\n",
       "<style scoped>\n",
       "    .dataframe tbody tr th:only-of-type {\n",
       "        vertical-align: middle;\n",
       "    }\n",
       "\n",
       "    .dataframe tbody tr th {\n",
       "        vertical-align: top;\n",
       "    }\n",
       "\n",
       "    .dataframe thead th {\n",
       "        text-align: right;\n",
       "    }\n",
       "</style>\n",
       "<table border=\"1\" class=\"dataframe\">\n",
       "  <thead>\n",
       "    <tr style=\"text-align: right;\">\n",
       "      <th></th>\n",
       "      <th>Total_Cases</th>\n",
       "      <th>Confirmed_Deaths</th>\n",
       "    </tr>\n",
       "    <tr>\n",
       "      <th>Town</th>\n",
       "      <th></th>\n",
       "      <th></th>\n",
       "    </tr>\n",
       "  </thead>\n",
       "  <tbody>\n",
       "    <tr>\n",
       "      <th>Danbury</th>\n",
       "      <td>3596273</td>\n",
       "      <td>55592</td>\n",
       "    </tr>\n",
       "    <tr>\n",
       "      <th>East Hartford</th>\n",
       "      <td>3419222</td>\n",
       "      <td>58053</td>\n",
       "    </tr>\n",
       "    <tr>\n",
       "      <th>Hamden</th>\n",
       "      <td>3290637</td>\n",
       "      <td>82980</td>\n",
       "    </tr>\n",
       "    <tr>\n",
       "      <th>West Haven</th>\n",
       "      <td>3273781</td>\n",
       "      <td>52870</td>\n",
       "    </tr>\n",
       "    <tr>\n",
       "      <th>Norwalk</th>\n",
       "      <td>3268928</td>\n",
       "      <td>67948</td>\n",
       "    </tr>\n",
       "    <tr>\n",
       "      <th>Bristol</th>\n",
       "      <td>3178607</td>\n",
       "      <td>58557</td>\n",
       "    </tr>\n",
       "    <tr>\n",
       "      <th>Stratford</th>\n",
       "      <td>3074038</td>\n",
       "      <td>60121</td>\n",
       "    </tr>\n",
       "    <tr>\n",
       "      <th>Greenwich</th>\n",
       "      <td>2895843</td>\n",
       "      <td>35498</td>\n",
       "    </tr>\n",
       "    <tr>\n",
       "      <th>New Britain</th>\n",
       "      <td>2792369</td>\n",
       "      <td>55927</td>\n",
       "    </tr>\n",
       "    <tr>\n",
       "      <th>Manchester</th>\n",
       "      <td>2725348</td>\n",
       "      <td>59603</td>\n",
       "    </tr>\n",
       "    <tr>\n",
       "      <th>Fairfield</th>\n",
       "      <td>2707329</td>\n",
       "      <td>73231</td>\n",
       "    </tr>\n",
       "    <tr>\n",
       "      <th>Milford</th>\n",
       "      <td>2674968</td>\n",
       "      <td>60970</td>\n",
       "    </tr>\n",
       "    <tr>\n",
       "      <th>West Hartford</th>\n",
       "      <td>2601941</td>\n",
       "      <td>82834</td>\n",
       "    </tr>\n",
       "    <tr>\n",
       "      <th>Middletown</th>\n",
       "      <td>2449740</td>\n",
       "      <td>55560</td>\n",
       "    </tr>\n",
       "    <tr>\n",
       "      <th>Wallingford</th>\n",
       "      <td>2439320</td>\n",
       "      <td>71964</td>\n",
       "    </tr>\n",
       "    <tr>\n",
       "      <th>Meriden</th>\n",
       "      <td>2407474</td>\n",
       "      <td>45946</td>\n",
       "    </tr>\n",
       "    <tr>\n",
       "      <th>Norwich</th>\n",
       "      <td>2388974</td>\n",
       "      <td>22961</td>\n",
       "    </tr>\n",
       "    <tr>\n",
       "      <th>Shelton</th>\n",
       "      <td>2209597</td>\n",
       "      <td>73637</td>\n",
       "    </tr>\n",
       "    <tr>\n",
       "      <th>Southington</th>\n",
       "      <td>2060313</td>\n",
       "      <td>39439</td>\n",
       "    </tr>\n",
       "    <tr>\n",
       "      <th>Enfield</th>\n",
       "      <td>2059076</td>\n",
       "      <td>25238</td>\n",
       "    </tr>\n",
       "  </tbody>\n",
       "</table>\n",
       "</div>"
      ],
      "text/plain": [
       "               Total_Cases  Confirmed_Deaths\n",
       "Town                                        \n",
       "Danbury            3596273             55592\n",
       "East Hartford      3419222             58053\n",
       "Hamden             3290637             82980\n",
       "West Haven         3273781             52870\n",
       "Norwalk            3268928             67948\n",
       "Bristol            3178607             58557\n",
       "Stratford          3074038             60121\n",
       "Greenwich          2895843             35498\n",
       "New Britain        2792369             55927\n",
       "Manchester         2725348             59603\n",
       "Fairfield          2707329             73231\n",
       "Milford            2674968             60970\n",
       "West Hartford      2601941             82834\n",
       "Middletown         2449740             55560\n",
       "Wallingford        2439320             71964\n",
       "Meriden            2407474             45946\n",
       "Norwich            2388974             22961\n",
       "Shelton            2209597             73637\n",
       "Southington        2060313             39439\n",
       "Enfield            2059076             25238"
      ]
     },
     "execution_count": 815,
     "metadata": {},
     "output_type": "execute_result"
    }
   ],
   "source": [
    "ByT = (wk3f.groupby(['Town'])[['Total_Cases', 'Confirmed_Deaths']].sum()) \\\n",
    "                  .nlargest(20,['Total_Cases'])\n",
    "ByT"
   ]
  },
  {
   "cell_type": "code",
   "execution_count": 816,
   "id": "126640d5-852c-48b3-ba15-7f01675aeb77",
   "metadata": {
    "tags": []
   },
   "outputs": [
    {
     "data": {
      "text/html": [
       "<div>\n",
       "<style scoped>\n",
       "    .dataframe tbody tr th:only-of-type {\n",
       "        vertical-align: middle;\n",
       "    }\n",
       "\n",
       "    .dataframe tbody tr th {\n",
       "        vertical-align: top;\n",
       "    }\n",
       "\n",
       "    .dataframe thead th {\n",
       "        text-align: right;\n",
       "    }\n",
       "</style>\n",
       "<table border=\"1\" class=\"dataframe\">\n",
       "  <thead>\n",
       "    <tr style=\"text-align: right;\">\n",
       "      <th></th>\n",
       "      <th>Confirmed_Deaths</th>\n",
       "    </tr>\n",
       "    <tr>\n",
       "      <th>ByM</th>\n",
       "      <th></th>\n",
       "    </tr>\n",
       "  </thead>\n",
       "  <tbody>\n",
       "    <tr>\n",
       "      <th>2020-05</th>\n",
       "      <td>3111</td>\n",
       "    </tr>\n",
       "    <tr>\n",
       "      <th>2020-06</th>\n",
       "      <td>100237</td>\n",
       "    </tr>\n",
       "    <tr>\n",
       "      <th>2020-07</th>\n",
       "      <td>77165</td>\n",
       "    </tr>\n",
       "    <tr>\n",
       "      <th>2020-08</th>\n",
       "      <td>78513</td>\n",
       "    </tr>\n",
       "    <tr>\n",
       "      <th>2020-09</th>\n",
       "      <td>75521</td>\n",
       "    </tr>\n",
       "    <tr>\n",
       "      <th>2020-10</th>\n",
       "      <td>76718</td>\n",
       "    </tr>\n",
       "    <tr>\n",
       "      <th>2020-11</th>\n",
       "      <td>80736</td>\n",
       "    </tr>\n",
       "    <tr>\n",
       "      <th>2020-12</th>\n",
       "      <td>91368</td>\n",
       "    </tr>\n",
       "    <tr>\n",
       "      <th>2021-01</th>\n",
       "      <td>105055</td>\n",
       "    </tr>\n",
       "    <tr>\n",
       "      <th>2021-02</th>\n",
       "      <td>101977</td>\n",
       "    </tr>\n",
       "    <tr>\n",
       "      <th>2021-03</th>\n",
       "      <td>123394</td>\n",
       "    </tr>\n",
       "    <tr>\n",
       "      <th>2021-04</th>\n",
       "      <td>115406</td>\n",
       "    </tr>\n",
       "    <tr>\n",
       "      <th>2021-05</th>\n",
       "      <td>112439</td>\n",
       "    </tr>\n",
       "    <tr>\n",
       "      <th>2021-06</th>\n",
       "      <td>121957</td>\n",
       "    </tr>\n",
       "    <tr>\n",
       "      <th>2021-07</th>\n",
       "      <td>115525</td>\n",
       "    </tr>\n",
       "    <tr>\n",
       "      <th>2021-08</th>\n",
       "      <td>121595</td>\n",
       "    </tr>\n",
       "    <tr>\n",
       "      <th>2021-09</th>\n",
       "      <td>118082</td>\n",
       "    </tr>\n",
       "    <tr>\n",
       "      <th>2021-10</th>\n",
       "      <td>115159</td>\n",
       "    </tr>\n",
       "    <tr>\n",
       "      <th>2021-11</th>\n",
       "      <td>122728</td>\n",
       "    </tr>\n",
       "    <tr>\n",
       "      <th>2021-12</th>\n",
       "      <td>123253</td>\n",
       "    </tr>\n",
       "    <tr>\n",
       "      <th>2022-01</th>\n",
       "      <td>118936</td>\n",
       "    </tr>\n",
       "    <tr>\n",
       "      <th>2022-02</th>\n",
       "      <td>119405</td>\n",
       "    </tr>\n",
       "    <tr>\n",
       "      <th>2022-03</th>\n",
       "      <td>142569</td>\n",
       "    </tr>\n",
       "    <tr>\n",
       "      <th>2022-04</th>\n",
       "      <td>131880</td>\n",
       "    </tr>\n",
       "    <tr>\n",
       "      <th>2022-05</th>\n",
       "      <td>131203</td>\n",
       "    </tr>\n",
       "    <tr>\n",
       "      <th>2022-06</th>\n",
       "      <td>109654</td>\n",
       "    </tr>\n",
       "  </tbody>\n",
       "</table>\n",
       "</div>"
      ],
      "text/plain": [
       "         Confirmed_Deaths\n",
       "ByM                      \n",
       "2020-05              3111\n",
       "2020-06            100237\n",
       "2020-07             77165\n",
       "2020-08             78513\n",
       "2020-09             75521\n",
       "2020-10             76718\n",
       "2020-11             80736\n",
       "2020-12             91368\n",
       "2021-01            105055\n",
       "2021-02            101977\n",
       "2021-03            123394\n",
       "2021-04            115406\n",
       "2021-05            112439\n",
       "2021-06            121957\n",
       "2021-07            115525\n",
       "2021-08            121595\n",
       "2021-09            118082\n",
       "2021-10            115159\n",
       "2021-11            122728\n",
       "2021-12            123253\n",
       "2022-01            118936\n",
       "2022-02            119405\n",
       "2022-03            142569\n",
       "2022-04            131880\n",
       "2022-05            131203\n",
       "2022-06            109654"
      ]
     },
     "execution_count": 816,
     "metadata": {},
     "output_type": "execute_result"
    }
   ],
   "source": [
    "wk3f['month'] = wk3f['Last update date'].dt.month\n",
    "wk3f['ByM'] = wk3f['Last update date'].dt.to_period('M')\n",
    "CD_ByM = wk3f.groupby(['ByM'])['Confirmed_Deaths',].sum()\n",
    "CD_ByM.head(100)"
   ]
  },
  {
   "cell_type": "code",
   "execution_count": 817,
   "id": "e6d39c3a-0909-4438-9272-ad9a8da05eeb",
   "metadata": {
    "tags": []
   },
   "outputs": [
    {
     "data": {
      "text/html": [
       "<div>\n",
       "<style scoped>\n",
       "    .dataframe tbody tr th:only-of-type {\n",
       "        vertical-align: middle;\n",
       "    }\n",
       "\n",
       "    .dataframe tbody tr th {\n",
       "        vertical-align: top;\n",
       "    }\n",
       "\n",
       "    .dataframe thead th {\n",
       "        text-align: right;\n",
       "    }\n",
       "</style>\n",
       "<table border=\"1\" class=\"dataframe\">\n",
       "  <thead>\n",
       "    <tr style=\"text-align: right;\">\n",
       "      <th></th>\n",
       "      <th>Total_Cases</th>\n",
       "    </tr>\n",
       "    <tr>\n",
       "      <th>ByM</th>\n",
       "      <th></th>\n",
       "    </tr>\n",
       "  </thead>\n",
       "  <tbody>\n",
       "    <tr>\n",
       "      <th>2020-05</th>\n",
       "      <td>42503</td>\n",
       "    </tr>\n",
       "    <tr>\n",
       "      <th>2020-06</th>\n",
       "      <td>1344424</td>\n",
       "    </tr>\n",
       "    <tr>\n",
       "      <th>2020-07</th>\n",
       "      <td>1050633</td>\n",
       "    </tr>\n",
       "    <tr>\n",
       "      <th>2020-08</th>\n",
       "      <td>1123735</td>\n",
       "    </tr>\n",
       "    <tr>\n",
       "      <th>2020-09</th>\n",
       "      <td>1160472</td>\n",
       "    </tr>\n",
       "    <tr>\n",
       "      <th>2020-10</th>\n",
       "      <td>1334872</td>\n",
       "    </tr>\n",
       "    <tr>\n",
       "      <th>2020-11</th>\n",
       "      <td>1952623</td>\n",
       "    </tr>\n",
       "    <tr>\n",
       "      <th>2020-12</th>\n",
       "      <td>3167308</td>\n",
       "    </tr>\n",
       "    <tr>\n",
       "      <th>2021-01</th>\n",
       "      <td>4305453</td>\n",
       "    </tr>\n",
       "    <tr>\n",
       "      <th>2021-02</th>\n",
       "      <td>4304662</td>\n",
       "    </tr>\n",
       "    <tr>\n",
       "      <th>2021-03</th>\n",
       "      <td>5455887</td>\n",
       "    </tr>\n",
       "    <tr>\n",
       "      <th>2021-04</th>\n",
       "      <td>5533936</td>\n",
       "    </tr>\n",
       "    <tr>\n",
       "      <th>2021-05</th>\n",
       "      <td>5523256</td>\n",
       "    </tr>\n",
       "    <tr>\n",
       "      <th>2021-06</th>\n",
       "      <td>5924828</td>\n",
       "    </tr>\n",
       "    <tr>\n",
       "      <th>2021-07</th>\n",
       "      <td>5604275</td>\n",
       "    </tr>\n",
       "    <tr>\n",
       "      <th>2021-08</th>\n",
       "      <td>6083997</td>\n",
       "    </tr>\n",
       "    <tr>\n",
       "      <th>2021-09</th>\n",
       "      <td>6128910</td>\n",
       "    </tr>\n",
       "    <tr>\n",
       "      <th>2021-10</th>\n",
       "      <td>6074772</td>\n",
       "    </tr>\n",
       "    <tr>\n",
       "      <th>2021-11</th>\n",
       "      <td>6609360</td>\n",
       "    </tr>\n",
       "    <tr>\n",
       "      <th>2021-12</th>\n",
       "      <td>7214488</td>\n",
       "    </tr>\n",
       "    <tr>\n",
       "      <th>2022-01</th>\n",
       "      <td>8954862</td>\n",
       "    </tr>\n",
       "    <tr>\n",
       "      <th>2022-02</th>\n",
       "      <td>9514423</td>\n",
       "    </tr>\n",
       "    <tr>\n",
       "      <th>2022-03</th>\n",
       "      <td>11228247</td>\n",
       "    </tr>\n",
       "    <tr>\n",
       "      <th>2022-04</th>\n",
       "      <td>10529435</td>\n",
       "    </tr>\n",
       "    <tr>\n",
       "      <th>2022-05</th>\n",
       "      <td>11036076</td>\n",
       "    </tr>\n",
       "    <tr>\n",
       "      <th>2022-06</th>\n",
       "      <td>9560815</td>\n",
       "    </tr>\n",
       "  </tbody>\n",
       "</table>\n",
       "</div>"
      ],
      "text/plain": [
       "         Total_Cases\n",
       "ByM                 \n",
       "2020-05        42503\n",
       "2020-06      1344424\n",
       "2020-07      1050633\n",
       "2020-08      1123735\n",
       "2020-09      1160472\n",
       "2020-10      1334872\n",
       "2020-11      1952623\n",
       "2020-12      3167308\n",
       "2021-01      4305453\n",
       "2021-02      4304662\n",
       "2021-03      5455887\n",
       "2021-04      5533936\n",
       "2021-05      5523256\n",
       "2021-06      5924828\n",
       "2021-07      5604275\n",
       "2021-08      6083997\n",
       "2021-09      6128910\n",
       "2021-10      6074772\n",
       "2021-11      6609360\n",
       "2021-12      7214488\n",
       "2022-01      8954862\n",
       "2022-02      9514423\n",
       "2022-03     11228247\n",
       "2022-04     10529435\n",
       "2022-05     11036076\n",
       "2022-06      9560815"
      ]
     },
     "execution_count": 817,
     "metadata": {},
     "output_type": "execute_result"
    }
   ],
   "source": [
    "CC_ByM = wk3f.groupby(['ByM'])['Total_Cases',].sum()\n",
    "CC_ByM.head(50)"
   ]
  },
  {
   "cell_type": "markdown",
   "id": "c607bb11-13b7-4022-9c87-2da0557a0099",
   "metadata": {},
   "source": [
    "#### Analysis Case_Rate per 1000,000"
   ]
  },
  {
   "cell_type": "code",
   "execution_count": 818,
   "id": "0f17e35d-64fb-4680-b7a4-62d7f3ebc51a",
   "metadata": {
    "tags": []
   },
   "outputs": [],
   "source": [
    "std = wk3f['Case_Rate'].std()"
   ]
  },
  {
   "cell_type": "code",
   "execution_count": 819,
   "id": "8291b18d-5432-4164-ae07-ad97d3968931",
   "metadata": {
    "tags": []
   },
   "outputs": [],
   "source": [
    "avg = wk3f['Case_Rate'].mean()\n",
    "med = wk3f['Case_Rate'].median()"
   ]
  },
  {
   "cell_type": "code",
   "execution_count": 820,
   "id": "7c500f19-9dbd-431f-a4c6-805f97bd0050",
   "metadata": {
    "tags": []
   },
   "outputs": [
    {
     "data": {
      "text/plain": [
       "14311.787131701989"
      ]
     },
     "execution_count": 820,
     "metadata": {},
     "output_type": "execute_result"
    }
   ],
   "source": [
    "avg+std"
   ]
  },
  {
   "cell_type": "code",
   "execution_count": 821,
   "id": "3b9c9cca-754e-451e-80dc-75a46ec0581b",
   "metadata": {
    "tags": []
   },
   "outputs": [
    {
     "data": {
      "text/plain": [
       "1515.8883111585465"
      ]
     },
     "execution_count": 821,
     "metadata": {},
     "output_type": "execute_result"
    }
   ],
   "source": [
    "avg-std"
   ]
  },
  {
   "cell_type": "code",
   "execution_count": 822,
   "id": "74d3a73f-c601-46e9-9126-e285a7c58848",
   "metadata": {
    "tags": []
   },
   "outputs": [
    {
     "data": {
      "text/plain": [
       "-4882.061099113174"
      ]
     },
     "execution_count": 822,
     "metadata": {},
     "output_type": "execute_result"
    }
   ],
   "source": [
    "avg-(std*2)"
   ]
  },
  {
   "cell_type": "code",
   "execution_count": 823,
   "id": "bdf761ab-4c4b-4c7c-976f-6222a2b11dac",
   "metadata": {
    "tags": []
   },
   "outputs": [
    {
     "data": {
      "text/plain": [
       "-11280.010509384894"
      ]
     },
     "execution_count": 823,
     "metadata": {},
     "output_type": "execute_result"
    }
   ],
   "source": [
    "avg-(std*3)"
   ]
  },
  {
   "cell_type": "code",
   "execution_count": 824,
   "id": "d9e9a3b8-d02f-4692-a8d3-403aa62db1fa",
   "metadata": {
    "tags": []
   },
   "outputs": [
    {
     "data": {
      "text/plain": [
       "20709.73654197371"
      ]
     },
     "execution_count": 824,
     "metadata": {},
     "output_type": "execute_result"
    }
   ],
   "source": [
    "avg+(std*2)"
   ]
  },
  {
   "cell_type": "code",
   "execution_count": 825,
   "id": "0d858f1b-c76a-42ce-861d-1b1fbca95224",
   "metadata": {
    "tags": []
   },
   "outputs": [
    {
     "data": {
      "text/plain": [
       "27107.68595224543"
      ]
     },
     "execution_count": 825,
     "metadata": {},
     "output_type": "execute_result"
    }
   ],
   "source": [
    "avg+(std*3)"
   ]
  },
  {
   "cell_type": "code",
   "execution_count": 826,
   "id": "0ca76152-4d19-4bcb-a531-ed2a4becde44",
   "metadata": {
    "tags": []
   },
   "outputs": [
    {
     "data": {
      "text/plain": [
       "<Figure size 3000x1000 with 0 Axes>"
      ]
     },
     "execution_count": 826,
     "metadata": {},
     "output_type": "execute_result"
    },
    {
     "data": {
      "image/png": "[encoded data removed]",
      "text/plain": [
       "<Figure size 640x480 with 1 Axes>"
      ]
     },
     "metadata": {},
     "output_type": "display_data"
    },
    {
     "data": {
      "text/plain": [
       "<Figure size 3000x1000 with 0 Axes>"
      ]
     },
     "metadata": {},
     "output_type": "display_data"
    }
   ],
   "source": [
    "sns.histplot(x = wk3f['Case_Rate'], color = 'lightblue', edgecolor = 'red')\n",
    "plt.title('Case Rate Distribution with Percentiles', pad = 10)\n",
    "\n",
    "\n",
    "plt.axvline(x = -5101, ymin = 0, ymax = wk3f['Case_Rate'].max(),  linestyle = '--', color = \"blue\")\n",
    "plt.axvline(x = 1552, ymin = 0, ymax = wk3f['Case_Rate'].max(),  linestyle = '--', color = \"green\")\n",
    "plt.axvline(x = avg, ymin = 0, ymax = wk3f['Case_Rate'].max(),  color = 'black')\n",
    "plt.axvline(x = 14858, ymin = 0, ymax = wk3f['Case_Rate'].max(), linestyle = '--', color = \"green\")\n",
    "plt.axvline(x = 21511, ymin = 0, ymax = wk3f['Case_Rate'].max(), linestyle = '--', color = \"blue\")\n",
    "plt.axvline(x = 28164, ymin = 0, ymax = wk3f['Case_Rate'].max(),  linestyle = '--', color = \"red\")\n",
    "plt.xlabel('Case Rate')\n",
    "TD.set_yticks([0, 2500, 5000, 7000])\n",
    "\n",
    "plt.figure(figsize = (30,10))"
   ]
  },
  {
   "cell_type": "code",
   "execution_count": null,
   "id": "14c4cf21-aabb-4693-bfe5-96af1c11dc4d",
   "metadata": {},
   "outputs": [],
   "source": []
  },
  {
   "cell_type": "code",
   "execution_count": 827,
   "id": "c2e7e5de-9ec4-44d3-a326-525dcc14fae1",
   "metadata": {
    "tags": []
   },
   "outputs": [
    {
     "data": {
      "text/plain": [
       "[Text(0.5, 0, 'By Month'), Text(0, 0.5, 'Total Cases')]"
      ]
     },
     "execution_count": 827,
     "metadata": {},
     "output_type": "execute_result"
    },
    {
     "data": {
      "image/png": "[encoded data removed]",
      "text/plain": [
       "<Figure size 2100x800 with 2 Axes>"
      ]
     },
     "metadata": {},
     "output_type": "display_data"
    }
   ],
   "source": [
    "fig, ax = plt.subplots(figsize=(21, 8))\n",
    "ax1 = plt.ticklabel_format(style = 'plain')\n",
    "ax1 = sns.barplot(data = wk3f, y = 'Total_Cases', x = 'ByM', linewidth = 2, edgecolor = 'red',\n",
    "                  estimator=np.sum)\n",
    "\n",
    "ax2 = ax1.twinx()\n",
    "ax2 = sns.lineplot(x=wk3f['ByM'].astype(str), y=wk3['Confirmed_Deaths'],\n",
    "                  estimator=np.sum)\n",
    " \n",
    "ax2.set_yticks([100000, 300000, 500000])\n",
    "ax2.set(ylabel='Confirmed Deaths')\n",
    "ax1.tick_params(axis='x', labelrotation=90)\n",
    "ax1.set(xlabel='By Month', ylabel='Total Cases')"
   ]
  }
 ],
 "metadata": {
  "kernelspec": {
   "display_name": "Python 3 (ipykernel)",
   "language": "python",
   "name": "python3"
  },
  "language_info": {
   "codemirror_mode": {
    "name": "ipython",
    "version": 3
   },
   "file_extension": ".py",
   "mimetype": "text/x-python",
   "name": "python",
   "nbconvert_exporter": "python",
   "pygments_lexer": "ipython3",
   "version": "3.11.5"
  }
 },
 "nbformat": 4,
 "nbformat_minor": 5
}
